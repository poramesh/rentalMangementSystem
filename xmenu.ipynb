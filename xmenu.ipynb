{
 "cells": [
  {
   "cell_type": "code",
   "execution_count": null,
   "metadata": {},
   "outputs": [],
   "source": [
    "''': A main program that provides the required menu options to\n",
    "the store manager. The menu should be based on the Graphical User\n",
    "Interface (GUI). You are only allowed to use IPyWidgets to build the GUI\n",
    "components. The GUI must use only one window and be easy to use.\n",
    "Utilise the images stored in the database for application icons and game\n",
    "covers.'''"
   ]
  },
  {
   "cell_type": "code",
   "execution_count": null,
   "metadata": {},
   "outputs": [],
   "source": []
  }
 ],
 "metadata": {
  "language_info": {
   "name": "python"
  }
 },
 "nbformat": 4,
 "nbformat_minor": 2
}
